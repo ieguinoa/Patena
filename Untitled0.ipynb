{
 "metadata": {
  "name": ""
 },
 "nbformat": 3,
 "nbformat_minor": 0,
 "worksheets": [
  {
   "cells": [
    {
     "cell_type": "code",
     "collapsed": false,
     "input": [
      "import urllib2\n",
      "import StringIO\n",
      "\n",
      "response = urllib2.urlopen('http://web.expasy.org/cgi-bin/randseq/randseq.pl?size=100&comp=average&output=fasta')\n",
      "html = response.read()\n",
      "#lines = StringIO.StringIO(html)\n",
      "#lines.remove(1)\n",
      "#print lines\n",
      "#html.splitlines()\n",
      "#sequence=\"\"\n",
      "#for line in StringIO.StringIO(html):\n",
      "#    if not (line.startswith('>')):\n",
      "#      sequence=sequence + line.rstrip()\n",
      "#print sequence\n",
      "i = html.index('\\n')\n",
      "sequence = html[i+1:].replace('\\n', '')"
     ],
     "language": "python",
     "metadata": {},
     "outputs": [],
     "prompt_number": 3
    },
    {
     "cell_type": "code",
     "collapsed": false,
     "input": [
      "print sequence"
     ],
     "language": "python",
     "metadata": {},
     "outputs": [
      {
       "output_type": "stream",
       "stream": "stdout",
       "text": [
        "MADFIGARKIEPTDPSWLVDGVQYFTSALGARLDSTTPLAIVKQINTAIRYGPLPQLLKGLDLKMKRVFVSVEFENSAKEHEEACIGNRHVLQSNGEYRS\n"
       ]
      }
     ],
     "prompt_number": 6
    },
    {
     "cell_type": "code",
     "collapsed": false,
     "input": [],
     "language": "python",
     "metadata": {},
     "outputs": []
    }
   ],
   "metadata": {}
  }
 ]
}